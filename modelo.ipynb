{
 "cells": [
  {
   "cell_type": "code",
   "execution_count": 1,
   "id": "50dc4731",
   "metadata": {},
   "outputs": [
    {
     "ename": "NameError",
     "evalue": "name 'csv' is not defined",
     "output_type": "error",
     "traceback": [
      "\u001b[31m---------------------------------------------------------------------------\u001b[39m",
      "\u001b[31mNameError\u001b[39m                                 Traceback (most recent call last)",
      "\u001b[36mCell\u001b[39m\u001b[36m \u001b[39m\u001b[32mIn[1]\u001b[39m\u001b[32m, line 1\u001b[39m\n\u001b[32m----> \u001b[39m\u001b[32m1\u001b[39m df_numeric= \u001b[43mcsv\u001b[49m.read_csv(\u001b[33m'\u001b[39m\u001b[33mData/book_cleaned.csv\u001b[39m\u001b[33m'\u001b[39m)\n",
      "\u001b[31mNameError\u001b[39m: name 'csv' is not defined"
     ]
    }
   ],
   "source": [
    "df_numeric= csv.read_csv('Data/book_cleaned.csv')"
   ]
  },
  {
   "cell_type": "code",
   "execution_count": null,
   "id": "bca06a5c",
   "metadata": {},
   "outputs": [],
   "source": [
    "# =========================\n",
    "# 1. IMPORTAR LIBRERÍAS\n",
    "# =========================\n",
    "import pandas as pd\n",
    "import numpy as np\n",
    "from sklearn.model_selection import train_test_split\n",
    "from sklearn.ensemble import RandomForestRegressor\n",
    "from sklearn.metrics import mean_absolute_error, mean_squared_error, r2_score\n",
    "import matplotlib.pyplot as plt\n",
    "\n",
    "# =========================\n",
    "# 2. DEFINIR X e y\n",
    "# =========================\n",
    "# Asegúrate de que df_numeric está definido\n",
    "X = df_numeric.drop(columns=[\"Book_ratings_count\"])\n",
    "y = df_numeric[\"Book_ratings_count\"]\n",
    "\n",
    "# =========================\n",
    "# 3. LIMPIEZA\n",
    "# =========================\n",
    "X = X.dropna()\n",
    "y = y.loc[X.index]\n",
    "\n",
    "# =========================\n",
    "# 4. DIVISIÓN TRAIN/TEST\n",
    "# =========================\n",
    "X_train, X_test, y_train, y_test = train_test_split(X, y, test_size=0.2, random_state=42)\n",
    "\n",
    "# =========================\n",
    "# 5. ENTRENAMIENTO Random Forest\n",
    "# =========================\n",
    "rf = RandomForestRegressor(n_estimators=100, random_state=42)\n",
    "rf.fit(X_train, y_train)\n",
    "\n",
    "# =========================\n",
    "# 6. PREDICCIÓN Y MÉTRICAS\n",
    "# =========================\n",
    "y_pred = rf.predict(X_test)\n",
    "\n",
    "mae = mean_absolute_error(y_test, y_pred)\n",
    "rmse = np.sqrt(mean_squared_error(y_test, y_pred))\n",
    "r2 = r2_score(y_test, y_pred)\n",
    "\n",
    "print(f\"MAE: {mae:.2f}\")\n",
    "print(f\"RMSE: {rmse:.2f}\")\n",
    "print(f\"R²: {r2:.3f}\")\n",
    "\n",
    "# =========================\n",
    "# 7. IMPORTANCIA DE FEATURES\n",
    "# =========================\n",
    "importances = rf.feature_importances_\n",
    "indices = np.argsort(importances)[::-1]\n",
    "\n",
    "plt.figure(figsize=(12, 6))\n",
    "plt.title(\"Importancia de Características - Random Forest\")\n",
    "plt.bar(range(len(importances)), importances[indices])\n",
    "plt.xticks(range(len(importances)), X.columns[indices], rotation=90)\n",
    "plt.tight_layout()\n",
    "plt.show()\n"
   ]
  }
 ],
 "metadata": {
  "kernelspec": {
   "display_name": "proy_miner",
   "language": "python",
   "name": "python3"
  },
  "language_info": {
   "codemirror_mode": {
    "name": "ipython",
    "version": 3
   },
   "file_extension": ".py",
   "mimetype": "text/x-python",
   "name": "python",
   "nbconvert_exporter": "python",
   "pygments_lexer": "ipython3",
   "version": "3.12.1"
  }
 },
 "nbformat": 4,
 "nbformat_minor": 5
}
